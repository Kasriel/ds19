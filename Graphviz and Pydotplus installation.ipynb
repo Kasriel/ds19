{
 "cells": [
  {
   "cell_type": "code",
   "execution_count": 10,
   "metadata": {},
   "outputs": [
    {
     "name": "stdout",
     "output_type": "stream",
     "text": [
      "Loading channels: ...working... done\n",
      "# Name                       Version           Build  Channel             \n",
      "graphviz                      2.38.0               2  pkgs/free           \n",
      "graphviz                      2.38.0               4  pkgs/free           \n",
      "graphviz                        2.38      h308b129_2  pkgs/main           \n",
      "graphviz                        2.38      hfd603c8_2  pkgs/main           \n",
      "\n",
      "Note: you may need to restart the kernel to use updated packages.\n"
     ]
    },
    {
     "name": "stderr",
     "output_type": "stream",
     "text": [
      "WARNING: The conda.compat module is deprecated and will be removed in a future release.\n"
     ]
    }
   ],
   "source": [
    "conda search graphviz"
   ]
  },
  {
   "cell_type": "code",
   "execution_count": 11,
   "metadata": {},
   "outputs": [
    {
     "name": "stdout",
     "output_type": "stream",
     "text": [
      "Collecting package metadata: ...working... done\n",
      "Solving environment: ...working... done\n",
      "\n",
      "## Package Plan ##\n",
      "\n",
      "  environment location: C:\\Users\\User\\Anaconda3\n",
      "\n",
      "  added / updated specs:\n",
      "    - graphviz\n",
      "\n",
      "\n",
      "The following packages will be downloaded:\n",
      "\n",
      "    package                    |            build\n",
      "    ---------------------------|-----------------\n",
      "    conda-4.6.14               |           py37_0         2.1 MB\n",
      "    graphviz-2.38              |       hfd603c8_2        37.7 MB\n",
      "    ------------------------------------------------------------\n",
      "                                           Total:        39.9 MB\n",
      "\n",
      "The following NEW packages will be INSTALLED:\n",
      "\n",
      "  graphviz           pkgs/main/win-64::graphviz-2.38-hfd603c8_2\n",
      "\n",
      "The following packages will be UPDATED:\n",
      "\n",
      "  conda                                       4.6.11-py37_0 --> 4.6.14-py37_0\n",
      "\n",
      "\n",
      "\n",
      "Downloading and Extracting Packages\n",
      "\n",
      "conda-4.6.14         | 2.1 MB    |            |   0% \n",
      "conda-4.6.14         | 2.1 MB    |            |   1% \n",
      "conda-4.6.14         | 2.1 MB    | #8         |  19% \n",
      "conda-4.6.14         | 2.1 MB    | #####1     |  51% \n",
      "conda-4.6.14         | 2.1 MB    | #######5   |  75% \n",
      "conda-4.6.14         | 2.1 MB    | ########9  |  90% \n",
      "conda-4.6.14         | 2.1 MB    | ########## | 100% \n",
      "\n",
      "graphviz-2.38        | 37.7 MB   |            |   0% \n",
      "graphviz-2.38        | 37.7 MB   | 1          |   1% \n",
      "graphviz-2.38        | 37.7 MB   | 3          |   4% \n",
      "graphviz-2.38        | 37.7 MB   | 5          |   6% \n",
      "graphviz-2.38        | 37.7 MB   | 7          |   7% \n",
      "graphviz-2.38        | 37.7 MB   | 9          |   9% \n",
      "graphviz-2.38        | 37.7 MB   | #1         |  11% \n",
      "graphviz-2.38        | 37.7 MB   | #3         |  13% \n",
      "graphviz-2.38        | 37.7 MB   | #4         |  15% \n",
      "graphviz-2.38        | 37.7 MB   | #6         |  17% \n",
      "graphviz-2.38        | 37.7 MB   | #8         |  19% \n",
      "graphviz-2.38        | 37.7 MB   | ##         |  21% \n",
      "graphviz-2.38        | 37.7 MB   | ##2        |  23% \n",
      "graphviz-2.38        | 37.7 MB   | ##4        |  25% \n",
      "graphviz-2.38        | 37.7 MB   | ##7        |  27% \n",
      "graphviz-2.38        | 37.7 MB   | ##9        |  30% \n",
      "graphviz-2.38        | 37.7 MB   | ###1       |  32% \n",
      "graphviz-2.38        | 37.7 MB   | ###3       |  34% \n",
      "graphviz-2.38        | 37.7 MB   | ###6       |  36% \n",
      "graphviz-2.38        | 37.7 MB   | ###8       |  39% \n",
      "graphviz-2.38        | 37.7 MB   | ####1      |  41% \n",
      "graphviz-2.38        | 37.7 MB   | ####3      |  44% \n",
      "graphviz-2.38        | 37.7 MB   | ####6      |  46% \n",
      "graphviz-2.38        | 37.7 MB   | ####8      |  49% \n",
      "graphviz-2.38        | 37.7 MB   | #####1     |  52% \n",
      "graphviz-2.38        | 37.7 MB   | #####4     |  54% \n",
      "graphviz-2.38        | 37.7 MB   | #####7     |  57% \n",
      "graphviz-2.38        | 37.7 MB   | #####9     |  60% \n",
      "graphviz-2.38        | 37.7 MB   | ######2    |  62% \n",
      "graphviz-2.38        | 37.7 MB   | ######4    |  65% \n",
      "graphviz-2.38        | 37.7 MB   | ######7    |  67% \n",
      "graphviz-2.38        | 37.7 MB   | ######9    |  69% \n",
      "graphviz-2.38        | 37.7 MB   | #######1   |  71% \n",
      "graphviz-2.38        | 37.7 MB   | #######2   |  73% \n",
      "graphviz-2.38        | 37.7 MB   | #######4   |  74% \n",
      "graphviz-2.38        | 37.7 MB   | #######5   |  76% \n",
      "graphviz-2.38        | 37.7 MB   | #######7   |  77% \n",
      "graphviz-2.38        | 37.7 MB   | #######7   |  78% \n",
      "graphviz-2.38        | 37.7 MB   | #######8   |  79% \n",
      "graphviz-2.38        | 37.7 MB   | #######9   |  79% \n",
      "graphviz-2.38        | 37.7 MB   | #######9   |  80% \n",
      "graphviz-2.38        | 37.7 MB   | ########   |  80% \n",
      "graphviz-2.38        | 37.7 MB   | ########   |  81% \n",
      "graphviz-2.38        | 37.7 MB   | ########1  |  81% \n",
      "graphviz-2.38        | 37.7 MB   | ########1  |  82% \n",
      "graphviz-2.38        | 37.7 MB   | ########1  |  82% \n",
      "graphviz-2.38        | 37.7 MB   | ########2  |  83% \n",
      "graphviz-2.38        | 37.7 MB   | ########3  |  83% \n",
      "graphviz-2.38        | 37.7 MB   | ########3  |  84% \n",
      "graphviz-2.38        | 37.7 MB   | ########4  |  84% \n",
      "graphviz-2.38        | 37.7 MB   | ########4  |  84% \n",
      "graphviz-2.38        | 37.7 MB   | ########4  |  85% \n",
      "graphviz-2.38        | 37.7 MB   | ########5  |  85% \n",
      "graphviz-2.38        | 37.7 MB   | ########5  |  86% \n",
      "graphviz-2.38        | 37.7 MB   | ########6  |  86% \n",
      "graphviz-2.38        | 37.7 MB   | ########6  |  87% \n",
      "graphviz-2.38        | 37.7 MB   | ########7  |  87% \n",
      "graphviz-2.38        | 37.7 MB   | ########7  |  88% \n",
      "graphviz-2.38        | 37.7 MB   | ########8  |  88% \n",
      "graphviz-2.38        | 37.7 MB   | ########8  |  89% \n",
      "graphviz-2.38        | 37.7 MB   | ########9  |  89% \n",
      "graphviz-2.38        | 37.7 MB   | #########  |  90% \n",
      "graphviz-2.38        | 37.7 MB   | #########  |  91% \n",
      "graphviz-2.38        | 37.7 MB   | #########1 |  91% \n",
      "graphviz-2.38        | 37.7 MB   | #########1 |  92% \n",
      "graphviz-2.38        | 37.7 MB   | #########2 |  92% \n",
      "graphviz-2.38        | 37.7 MB   | #########2 |  93% \n",
      "graphviz-2.38        | 37.7 MB   | #########3 |  93% \n",
      "graphviz-2.38        | 37.7 MB   | #########3 |  94% \n",
      "graphviz-2.38        | 37.7 MB   | #########3 |  94% \n",
      "graphviz-2.38        | 37.7 MB   | #########4 |  94% \n",
      "graphviz-2.38        | 37.7 MB   | #########4 |  95% \n",
      "graphviz-2.38        | 37.7 MB   | #########4 |  95% \n",
      "graphviz-2.38        | 37.7 MB   | #########5 |  95% \n",
      "graphviz-2.38        | 37.7 MB   | #########5 |  96% \n",
      "graphviz-2.38        | 37.7 MB   | #########6 |  96% \n",
      "graphviz-2.38        | 37.7 MB   | #########6 |  96% \n",
      "graphviz-2.38        | 37.7 MB   | #########6 |  97% \n",
      "graphviz-2.38        | 37.7 MB   | #########6 |  97% \n",
      "graphviz-2.38        | 37.7 MB   | #########7 |  97% \n",
      "graphviz-2.38        | 37.7 MB   | #########7 |  98% \n",
      "graphviz-2.38        | 37.7 MB   | #########7 |  98% \n",
      "graphviz-2.38        | 37.7 MB   | #########8 |  98% \n",
      "graphviz-2.38        | 37.7 MB   | #########8 |  98% \n",
      "graphviz-2.38        | 37.7 MB   | #########8 |  99% \n",
      "graphviz-2.38        | 37.7 MB   | #########8 |  99% \n",
      "graphviz-2.38        | 37.7 MB   | #########9 |  99% \n",
      "graphviz-2.38        | 37.7 MB   | #########9 | 100% \n",
      "graphviz-2.38        | 37.7 MB   | #########9 | 100% \n",
      "graphviz-2.38        | 37.7 MB   | #########9 | 100% \n",
      "graphviz-2.38        | 37.7 MB   | ########## | 100% \n",
      "Preparing transaction: ...working... done\n",
      "Verifying transaction: ...working... done\n",
      "Executing transaction: ...working... done\n",
      "\n",
      "(base) C:\\Users\\User>ET _sysp=%~dpA \n",
      "\n",
      "(base) C:\\Users\\User>IF NOT EXIST \"!_sysp!\\Scripts\\conda.exe\" \n",
      "Collecting package metadata: ...working... done\n",
      "Solving environment: ...working... done\n",
      "\n",
      "# All requested packages already installed.\n",
      "\n",
      "\n",
      "Note: you may need to restart the kernel to use updated packages.\n"
     ]
    },
    {
     "name": "stderr",
     "output_type": "stream",
     "text": [
      "WARNING: The conda.compat module is deprecated and will be removed in a future release.\n",
      "'ET' is not recognized as an internal or external command,\n",
      "operable program or batch file.\n"
     ]
    }
   ],
   "source": [
    "conda install graphviz"
   ]
  },
  {
   "cell_type": "code",
   "execution_count": 15,
   "metadata": {},
   "outputs": [
    {
     "name": "stdout",
     "output_type": "stream",
     "text": [
      "Loading channels: ...working... done\n",
      "# Name                       Version           Build  Channel             \n",
      "pydotplus                      2.0.2          py27_0  pkgs/free           \n",
      "pydotplus                      2.0.2          py27_1  pkgs/main           \n",
      "pydotplus                      2.0.2          py35_0  pkgs/free           \n",
      "pydotplus                      2.0.2          py36_0  pkgs/free           \n",
      "pydotplus                      2.0.2          py36_1  pkgs/main           \n",
      "pydotplus                      2.0.2          py37_1  pkgs/main           \n",
      "\n",
      "Note: you may need to restart the kernel to use updated packages.\n"
     ]
    }
   ],
   "source": [
    "conda search pydotplus"
   ]
  },
  {
   "cell_type": "code",
   "execution_count": 16,
   "metadata": {},
   "outputs": [
    {
     "name": "stdout",
     "output_type": "stream",
     "text": [
      "Collecting package metadata: ...working... done\n",
      "Solving environment: ...working... done\n",
      "\n",
      "## Package Plan ##\n",
      "\n",
      "  environment location: C:\\Users\\User\\Anaconda3\n",
      "\n",
      "  added / updated specs:\n",
      "    - pydotplus\n",
      "\n",
      "\n",
      "The following packages will be downloaded:\n",
      "\n",
      "    package                    |            build\n",
      "    ---------------------------|-----------------\n",
      "    pydotplus-2.0.2            |           py37_1          42 KB\n",
      "    ------------------------------------------------------------\n",
      "                                           Total:          42 KB\n",
      "\n",
      "The following NEW packages will be INSTALLED:\n",
      "\n",
      "  pydotplus          pkgs/main/win-64::pydotplus-2.0.2-py37_1\n",
      "\n",
      "\n",
      "\n",
      "Downloading and Extracting Packages\n",
      "\n",
      "pydotplus-2.0.2      | 42 KB     |            |   0% \n",
      "pydotplus-2.0.2      | 42 KB     | ##8        |  29% \n",
      "pydotplus-2.0.2      | 42 KB     | ########## | 100% \n",
      "Preparing transaction: ...working... done\n",
      "Verifying transaction: ...working... done\n",
      "Executing transaction: ...working... done\n",
      "\n",
      "Note: you may need to restart the kernel to use updated packages.\n"
     ]
    }
   ],
   "source": [
    "conda install pydotplus"
   ]
  },
  {
   "cell_type": "code",
   "execution_count": 25,
   "metadata": {},
   "outputs": [],
   "source": [
    "import pydotplus"
   ]
  },
  {
   "cell_type": "code",
   "execution_count": 26,
   "metadata": {},
   "outputs": [],
   "source": [
    "from IPython.display import Image\n",
    "from sklearn import tree"
   ]
  },
  {
   "cell_type": "code",
   "execution_count": 33,
   "metadata": {},
   "outputs": [
    {
     "name": "stdout",
     "output_type": "stream",
     "text": [
      "Collecting graphviz\n",
      "  Downloading https://files.pythonhosted.org/packages/1f/e2/ef2581b5b86625657afd32030f90cf2717456c1d2b711ba074bf007c0f1a/graphviz-0.10.1-py2.py3-none-any.whl\n",
      "Installing collected packages: graphviz\n",
      "Successfully installed graphviz-0.10.1\n",
      "Note: you may need to restart the kernel to use updated packages.\n"
     ]
    }
   ],
   "source": [
    "pip install graphviz"
   ]
  },
  {
   "cell_type": "code",
   "execution_count": 34,
   "metadata": {},
   "outputs": [],
   "source": [
    "import graphviz"
   ]
  },
  {
   "cell_type": "code",
   "execution_count": null,
   "metadata": {},
   "outputs": [],
   "source": []
  },
  {
   "cell_type": "code",
   "execution_count": null,
   "metadata": {},
   "outputs": [],
   "source": []
  }
 ],
 "metadata": {
  "kernelspec": {
   "display_name": "Python 3",
   "language": "python",
   "name": "python3"
  },
  "language_info": {
   "codemirror_mode": {
    "name": "ipython",
    "version": 3
   },
   "file_extension": ".py",
   "mimetype": "text/x-python",
   "name": "python",
   "nbconvert_exporter": "python",
   "pygments_lexer": "ipython3",
   "version": "3.7.3"
  }
 },
 "nbformat": 4,
 "nbformat_minor": 2
}
